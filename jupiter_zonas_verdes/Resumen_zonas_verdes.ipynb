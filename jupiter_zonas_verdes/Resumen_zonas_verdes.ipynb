{
 "cells": [
  {
   "cell_type": "markdown",
   "id": "768fa1ae",
   "metadata": {},
   "source": [
    "ZONAS VERDES EN EL PAÍS VASCO"
   ]
  },
  {
   "cell_type": "markdown",
   "id": "4ed01b92",
   "metadata": {},
   "source": [
    "----"
   ]
  },
  {
   "cell_type": "markdown",
   "id": "c45ec6dc",
   "metadata": {},
   "source": [
    "**DESCRIPCION: \n",
    "\n",
    "El objetivo es analizar la superficie de zonas verdes en País Vasco. "
   ]
  },
  {
   "cell_type": "markdown",
   "id": "dd96f6db",
   "metadata": {},
   "source": [
    "**HIPOTESIS PRINCIPAL: \n",
    "\n",
    "¿Es Álava la provincia más verde del País Vasco?\n"
   ]
  },
  {
   "cell_type": "markdown",
   "id": "4aaa9ade",
   "metadata": {},
   "source": [
    "**POSIBLES HIPÓTESIS:\n",
    "\n",
    "\n",
    "¿Cómo es la superficie mayoritaria en cada provincia?\n",
    "\n",
    "¿Cual es la capital más verde?"
   ]
  },
  {
   "cell_type": "markdown",
   "id": "c788828c",
   "metadata": {},
   "source": [
    "----"
   ]
  },
  {
   "cell_type": "markdown",
   "id": "e9749d9d",
   "metadata": {},
   "source": [
    "**OBTENCION DE LOS DATOS\n",
    "\n",
    "Indicadores municipales de sostenibilidad - Zonas verdes y áreas protegidas\n",
    "\n",
    "\n",
    "https://www.euskadi.eus/gobierno-vasco/-/indicadores-municipales-de-sostenibilidad-zonas-verdes-y-areas-protegidas/"
   ]
  },
  {
   "cell_type": "markdown",
   "id": "2fc40f7a",
   "metadata": {},
   "source": [
    "----\n",
    "----"
   ]
  }
 ],
 "metadata": {
  "language_info": {
   "name": "python"
  }
 },
 "nbformat": 4,
 "nbformat_minor": 5
}
