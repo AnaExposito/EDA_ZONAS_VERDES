{
 "cells": [
  {
   "cell_type": "code",
   "execution_count": 2,
   "id": "973bd5a1",
   "metadata": {},
   "outputs": [],
   "source": [
    "import pandas as pd\n",
    "import numpy as np"
   ]
  },
  {
   "cell_type": "code",
   "execution_count": null,
   "id": "7e6d579d",
   "metadata": {},
   "outputs": [],
   "source": []
  },
  {
   "cell_type": "code",
   "execution_count": 3,
   "id": "b3dba86a",
   "metadata": {},
   "outputs": [
    {
     "ename": "NameError",
     "evalue": "name 'zonas_verdes_provincias' is not defined",
     "output_type": "error",
     "traceback": [
      "\u001b[31m---------------------------------------------------------------------------\u001b[39m",
      "\u001b[31mNameError\u001b[39m                                 Traceback (most recent call last)",
      "\u001b[36mCell\u001b[39m\u001b[36m \u001b[39m\u001b[32mIn[3]\u001b[39m\u001b[32m, line 1\u001b[39m\n\u001b[32m----> \u001b[39m\u001b[32m1\u001b[39m display(\u001b[33m'\u001b[39m\u001b[33mLas zonas verdes son\u001b[39m\u001b[33m'\u001b[39m,\u001b[43mzonas_verdes_provincias\u001b[49m,\u001b[33m'\u001b[39m\u001b[33mLas zonas verdes por persona son:\u001b[39m\u001b[33m'\u001b[39m,zonas_verdes_persona_provincias,\u001b[33m'\u001b[39m\u001b[33mLas superficie agricola es:\u001b[39m\u001b[33m'\u001b[39m, supeficie_agricola_provincias,\u001b[33m'\u001b[39m\u001b[33mLa superficie forestal es:\u001b[39m\u001b[33m'\u001b[39m, superficie_forestal_provinincia,\u001b[33m'\u001b[39m\u001b[33mLas superficie forestal publica es:\u001b[39m\u001b[33m'\u001b[39m, superficie_forestal_publica_provincias,\u001b[33m'\u001b[39m\u001b[33mLas zonas de especial proteccion son\u001b[39m\u001b[33m'\u001b[39m, especial_proteccion_provincia)\n",
      "\u001b[31mNameError\u001b[39m: name 'zonas_verdes_provincias' is not defined"
     ]
    }
   ],
   "source": [
    "display('Las zonas verdes son',zonas_verdes_provincias,'Las zonas verdes por persona son:',zonas_verdes_persona_provincias,'Las superficie agricola es:', supeficie_agricola_provincias,'La superficie forestal es:', superficie_forestal_provinincia,'Las superficie forestal publica es:', superficie_forestal_publica_provincias,'Las zonas de especial proteccion son', especial_proteccion_provincia)"
   ]
  }
 ],
 "metadata": {
  "kernelspec": {
   "display_name": "Python 3",
   "language": "python",
   "name": "python3"
  },
  "language_info": {
   "codemirror_mode": {
    "name": "ipython",
    "version": 3
   },
   "file_extension": ".py",
   "mimetype": "text/x-python",
   "name": "python",
   "nbconvert_exporter": "python",
   "pygments_lexer": "ipython3",
   "version": "3.13.3"
  }
 },
 "nbformat": 4,
 "nbformat_minor": 5
}
